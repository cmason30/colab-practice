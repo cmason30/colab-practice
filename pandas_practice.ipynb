{
  "nbformat": 4,
  "nbformat_minor": 0,
  "metadata": {
    "colab": {
      "name": "pandas_practice",
      "provenance": [],
      "include_colab_link": true
    },
    "kernelspec": {
      "name": "python3",
      "display_name": "Python 3"
    }
  },
  "cells": [
    {
      "cell_type": "markdown",
      "metadata": {
        "id": "view-in-github",
        "colab_type": "text"
      },
      "source": [
        "<a href=\"https://colab.research.google.com/github/cmason30/colab-practice/blob/master/pandas_practice.ipynb\" target=\"_parent\"><img src=\"https://colab.research.google.com/assets/colab-badge.svg\" alt=\"Open In Colab\"/></a>"
      ]
    },
    {
      "cell_type": "code",
      "metadata": {
        "id": "lZTCIX-8IcIj",
        "colab_type": "code",
        "colab": {}
      },
      "source": [
        "import numpy as np\n",
        "import pandas as pd\n",
        "from numpy.random import randn"
      ],
      "execution_count": 0,
      "outputs": []
    },
    {
      "cell_type": "code",
      "metadata": {
        "id": "RuP90rVtI0-C",
        "colab_type": "code",
        "colab": {}
      },
      "source": [
        "labels = ['a', 'b', 'c']\n",
        "my_data = [10, 20, 30]\n",
        "arr = np.array(my_data)\n",
        "d = {'a':10, 'b':20, 'c':30}\n",
        "arr"
      ],
      "execution_count": 0,
      "outputs": []
    },
    {
      "cell_type": "code",
      "metadata": {
        "id": "QjeN2KSRJe4B",
        "colab_type": "code",
        "colab": {}
      },
      "source": [
        "pd.Series(data = my_data)"
      ],
      "execution_count": 0,
      "outputs": []
    },
    {
      "cell_type": "code",
      "metadata": {
        "id": "h7h5-xiVJpKR",
        "colab_type": "code",
        "colab": {}
      },
      "source": [
        "pd.Series(data =my_data, index=labels)"
      ],
      "execution_count": 0,
      "outputs": []
    },
    {
      "cell_type": "code",
      "metadata": {
        "id": "Ts1S6w57J2jn",
        "colab_type": "code",
        "colab": {}
      },
      "source": [
        "pd.Series(arr, labels)"
      ],
      "execution_count": 0,
      "outputs": []
    },
    {
      "cell_type": "code",
      "metadata": {
        "id": "Gj1VZMfVKADL",
        "colab_type": "code",
        "colab": {}
      },
      "source": [
        "pd.Series(d)"
      ],
      "execution_count": 0,
      "outputs": []
    },
    {
      "cell_type": "code",
      "metadata": {
        "id": "SIvXdwk3KCLm",
        "colab_type": "code",
        "colab": {}
      },
      "source": [
        "np.random.seed(101)"
      ],
      "execution_count": 0,
      "outputs": []
    },
    {
      "cell_type": "code",
      "metadata": {
        "id": "uUf3r7ah716I",
        "colab_type": "code",
        "colab": {}
      },
      "source": [
        "df = pd.DataFrame(randn(5,4),['A','B','C','D','E'], ['W', 'X', 'Y', 'Z'])\n",
        "df"
      ],
      "execution_count": 0,
      "outputs": []
    },
    {
      "cell_type": "code",
      "metadata": {
        "id": "ZQkPDjGm8Qkz",
        "colab_type": "code",
        "colab": {}
      },
      "source": [
        "df[['W', 'Z']]"
      ],
      "execution_count": 0,
      "outputs": []
    },
    {
      "cell_type": "code",
      "metadata": {
        "id": "Ig3xqa7X8cX_",
        "colab_type": "code",
        "colab": {}
      },
      "source": [
        "df['new'] = df['W'] + df['Y']"
      ],
      "execution_count": 0,
      "outputs": []
    },
    {
      "cell_type": "code",
      "metadata": {
        "id": "XHq-Wqnr8i3G",
        "colab_type": "code",
        "colab": {}
      },
      "source": [
        "df"
      ],
      "execution_count": 0,
      "outputs": []
    },
    {
      "cell_type": "code",
      "metadata": {
        "id": "T2fsbRFT8k6w",
        "colab_type": "code",
        "colab": {}
      },
      "source": [
        "df.drop('new', axis=1, inplace=True)"
      ],
      "execution_count": 0,
      "outputs": []
    },
    {
      "cell_type": "code",
      "metadata": {
        "id": "1gPw2pmK8s6p",
        "colab_type": "code",
        "colab": {}
      },
      "source": [
        "df"
      ],
      "execution_count": 0,
      "outputs": []
    },
    {
      "cell_type": "code",
      "metadata": {
        "id": "Fv_KzfGL84MQ",
        "colab_type": "code",
        "colab": {}
      },
      "source": [
        "df.drop('E')"
      ],
      "execution_count": 0,
      "outputs": []
    },
    {
      "cell_type": "code",
      "metadata": {
        "id": "4LIzuW9K891h",
        "colab_type": "code",
        "colab": {}
      },
      "source": [
        "df.shape"
      ],
      "execution_count": 0,
      "outputs": []
    },
    {
      "cell_type": "code",
      "metadata": {
        "id": "4IFPX_KD9AVv",
        "colab_type": "code",
        "colab": {}
      },
      "source": [
        "df.loc['C']\n",
        "#returns row C as a Series"
      ],
      "execution_count": 0,
      "outputs": []
    },
    {
      "cell_type": "code",
      "metadata": {
        "id": "3R61vKdr9N6D",
        "colab_type": "code",
        "colab": {}
      },
      "source": [
        "df.iloc[2]\n",
        "#returns row C as a Series, however uses the integer (#2) to locate that row"
      ],
      "execution_count": 0,
      "outputs": []
    },
    {
      "cell_type": "code",
      "metadata": {
        "id": "3cpaZytZ9fR1",
        "colab_type": "code",
        "colab": {}
      },
      "source": [
        "df.loc['B', 'Y']\n",
        "#Narrows down row and column"
      ],
      "execution_count": 0,
      "outputs": []
    },
    {
      "cell_type": "code",
      "metadata": {
        "id": "NUMtWgbk9nTl",
        "colab_type": "code",
        "colab": {}
      },
      "source": [
        "df.loc[['A','B'],['W', 'Y']]"
      ],
      "execution_count": 0,
      "outputs": []
    },
    {
      "cell_type": "code",
      "metadata": {
        "id": "4f0nf8wK9vFn",
        "colab_type": "code",
        "colab": {}
      },
      "source": [
        "booldf = df > 0\n",
        "booldf\n",
        "#Returns boolean values for each cell for the argument"
      ],
      "execution_count": 0,
      "outputs": []
    },
    {
      "cell_type": "code",
      "metadata": {
        "id": "jsIUwG3V-Y5y",
        "colab_type": "code",
        "colab": {}
      },
      "source": [
        "df[booldf]\n",
        "#Returns numbers that didn't pass argument as NaN"
      ],
      "execution_count": 0,
      "outputs": []
    },
    {
      "cell_type": "code",
      "metadata": {
        "id": "joqvYT1M-mVP",
        "colab_type": "code",
        "colab": {}
      },
      "source": [
        "df['W']"
      ],
      "execution_count": 0,
      "outputs": []
    },
    {
      "cell_type": "code",
      "metadata": {
        "id": "tKvruFds-zsx",
        "colab_type": "code",
        "colab": {}
      },
      "source": [
        "resultdf = df[df['W']>0]"
      ],
      "execution_count": 0,
      "outputs": []
    },
    {
      "cell_type": "code",
      "metadata": {
        "id": "C7u_kiZZVapK",
        "colab_type": "code",
        "colab": {}
      },
      "source": [
        "resultdf['X']"
      ],
      "execution_count": 0,
      "outputs": []
    },
    {
      "cell_type": "code",
      "metadata": {
        "id": "MIAOZEpVVhQY",
        "colab_type": "code",
        "colab": {}
      },
      "source": [
        "df[df['W']>0]['X']\n",
        "# Lines 14 and 15 done in one step"
      ],
      "execution_count": 0,
      "outputs": []
    },
    {
      "cell_type": "code",
      "metadata": {
        "id": "61vEYlODVryb",
        "colab_type": "code",
        "colab": {}
      },
      "source": [
        "boolser = df['W']>0\n",
        "result = df[boolser]\n",
        "mycols = ['Y', 'X']\n",
        "result[mycols]"
      ],
      "execution_count": 0,
      "outputs": []
    },
    {
      "cell_type": "code",
      "metadata": {
        "id": "xnAt50FHWGkq",
        "colab_type": "code",
        "colab": {}
      },
      "source": [
        "df[(df['W']>0) | (df['Y']>1)]\n",
        "# must use & symbol with multiple TRUE/FALSE conditions instead of 'and'\n",
        "# Also use | instead of 'or'"
      ],
      "execution_count": 0,
      "outputs": []
    },
    {
      "cell_type": "code",
      "metadata": {
        "id": "ciKScTPaVrxa",
        "colab_type": "code",
        "colab": {}
      },
      "source": [
        "df[(df['W']>0) & (df['Y']>1)]"
      ],
      "execution_count": 0,
      "outputs": []
    },
    {
      "cell_type": "code",
      "metadata": {
        "id": "II3gSBLUW1iW",
        "colab_type": "code",
        "colab": {}
      },
      "source": [
        "df.reset_index()"
      ],
      "execution_count": 0,
      "outputs": []
    },
    {
      "cell_type": "code",
      "metadata": {
        "id": "siwOja6dXNru",
        "colab_type": "code",
        "colab": {}
      },
      "source": [
        "newind = 'CA NY WY OR CO'.split()\n",
        "newind\n",
        "# split command allows me to separate using whitespace instead of commas"
      ],
      "execution_count": 0,
      "outputs": []
    },
    {
      "cell_type": "code",
      "metadata": {
        "id": "I9VLiVwRXZYl",
        "colab_type": "code",
        "colab": {}
      },
      "source": [
        "df['States'] = newind\n",
        "df"
      ],
      "execution_count": 0,
      "outputs": []
    },
    {
      "cell_type": "code",
      "metadata": {
        "id": "hxySBUsFXdsl",
        "colab_type": "code",
        "colab": {}
      },
      "source": [
        "df.set_index('States')"
      ],
      "execution_count": 0,
      "outputs": []
    }
  ]
}